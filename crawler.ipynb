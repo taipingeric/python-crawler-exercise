{
 "cells": [
  {
   "cell_type": "code",
   "execution_count": 40,
   "metadata": {},
   "outputs": [],
   "source": [
    "import  requests\n",
    "from bs4 import BeautifulSoup\n",
    "import pandas as pd"
   ]
  },
  {
   "cell_type": "code",
   "execution_count": 26,
   "metadata": {},
   "outputs": [],
   "source": [
    "url = 'http://www.taipeibo.com/yearly/'\n",
    "res = requests.get(url)\n",
    "res.encoding = 'utf-8'\n",
    "soup = BeautifulSoup(res.text, 'html.parser')\n"
   ]
  },
  {
   "cell_type": "markdown",
   "metadata": {},
   "source": [
    "### Ex1 sort 週末票房冠軍 from http://www.taipeibo.com/yearly/ and save to csv"
   ]
  },
  {
   "cell_type": "code",
   "execution_count": 82,
   "metadata": {},
   "outputs": [],
   "source": [
    "def method1():\n",
    "    tr_all = soup.table.find_all('tr')\n",
    "    header = tr_all.pop(0)\n",
    "    col_names = list(header.stripped_strings)\n",
    "    data = [list(row.stripped_strings) for row in tr_all]\n",
    "    df = pd.DataFrame(data, columns=col_names)\n",
    "    df['週末票房冠軍'] = df['週末票房冠軍'].str.replace(',', '').apply(pd.to_numeric)\n",
    "    df = df.sort_values(by=['週末票房冠軍'], ascending=False)\n",
    "    return df\n",
    "    \n",
    "# method2  So Bad :(\n",
    "def method2():\n",
    "    weeks = []\n",
    "    box = []\n",
    "    names = []\n",
    "    for p in soup.table.find_all('td', {'data-th': \"週次\"}):\n",
    "        weeks.append(p.text)\n",
    "    for p in soup.table.find_all('td', {'data-th': \"週末票房總和\"}):\n",
    "        box.append(p.text)\n",
    "    for p in soup.table.find_all('td', {'data-th': \"冠軍片名\"}):\n",
    "        names.append(p.text)\n",
    "    df = pd.DataFrame({'box': box, 'weeks': weeks, 'names': names})\n",
    "    df = df.sort_values(by=['box'], ascending=False)\n",
    "    return df\n",
    "\n",
    "df = method1()\n",
    "df.to_csv('result.csv')\n"
   ]
  },
  {
   "cell_type": "code",
   "execution_count": null,
   "metadata": {},
   "outputs": [],
   "source": []
  }
 ],
 "metadata": {
  "kernelspec": {
   "display_name": "Python 3",
   "language": "python",
   "name": "python3"
  },
  "language_info": {
   "codemirror_mode": {
    "name": "ipython",
    "version": 3
   },
   "file_extension": ".py",
   "mimetype": "text/x-python",
   "name": "python",
   "nbconvert_exporter": "python",
   "pygments_lexer": "ipython3",
   "version": "3.5.1"
  }
 },
 "nbformat": 4,
 "nbformat_minor": 2
}
